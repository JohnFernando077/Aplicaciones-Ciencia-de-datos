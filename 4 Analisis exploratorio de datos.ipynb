{
  "nbformat": 4,
  "nbformat_minor": 0,
  "metadata": {
    "colab": {
      "provenance": []
    },
    "kernelspec": {
      "name": "python3",
      "display_name": "Python 3"
    },
    "language_info": {
      "name": "python"
    }
  },
  "cells": [
    {
      "cell_type": "markdown",
      "source": [
        "Importar"
      ],
      "metadata": {
        "id": "sJbSbMIwJfID"
      }
    },
    {
      "cell_type": "code",
      "execution_count": null,
      "metadata": {
        "colab": {
          "base_uri": "https://localhost:8080/"
        },
        "id": "dQ6VNWdhJSVD",
        "outputId": "28622cea-9e90-4a35-9782-98c59ead4430"
      },
      "outputs": [
        {
          "output_type": "stream",
          "name": "stdout",
          "text": [
            "Collecting boto3\n",
            "  Downloading boto3-1.36.3-py3-none-any.whl.metadata (6.6 kB)\n",
            "Collecting botocore<1.37.0,>=1.36.3 (from boto3)\n",
            "  Downloading botocore-1.36.3-py3-none-any.whl.metadata (5.7 kB)\n",
            "Collecting jmespath<2.0.0,>=0.7.1 (from boto3)\n",
            "  Downloading jmespath-1.0.1-py3-none-any.whl.metadata (7.6 kB)\n",
            "Collecting s3transfer<0.12.0,>=0.11.0 (from boto3)\n",
            "  Downloading s3transfer-0.11.1-py3-none-any.whl.metadata (1.7 kB)\n",
            "Requirement already satisfied: python-dateutil<3.0.0,>=2.1 in /usr/local/lib/python3.11/dist-packages (from botocore<1.37.0,>=1.36.3->boto3) (2.8.2)\n",
            "Requirement already satisfied: urllib3!=2.2.0,<3,>=1.25.4 in /usr/local/lib/python3.11/dist-packages (from botocore<1.37.0,>=1.36.3->boto3) (2.3.0)\n",
            "Requirement already satisfied: six>=1.5 in /usr/local/lib/python3.11/dist-packages (from python-dateutil<3.0.0,>=2.1->botocore<1.37.0,>=1.36.3->boto3) (1.17.0)\n",
            "Downloading boto3-1.36.3-py3-none-any.whl (139 kB)\n",
            "\u001b[2K   \u001b[90m━━━━━━━━━━━━━━━━━━━━━━━━━━━━━━━━━━━━━━━━\u001b[0m \u001b[32m139.2/139.2 kB\u001b[0m \u001b[31m2.5 MB/s\u001b[0m eta \u001b[36m0:00:00\u001b[0m\n",
            "\u001b[?25hDownloading botocore-1.36.3-py3-none-any.whl (13.3 MB)\n",
            "\u001b[2K   \u001b[90m━━━━━━━━━━━━━━━━━━━━━━━━━━━━━━━━━━━━━━━━\u001b[0m \u001b[32m13.3/13.3 MB\u001b[0m \u001b[31m46.2 MB/s\u001b[0m eta \u001b[36m0:00:00\u001b[0m\n",
            "\u001b[?25hDownloading jmespath-1.0.1-py3-none-any.whl (20 kB)\n",
            "Downloading s3transfer-0.11.1-py3-none-any.whl (84 kB)\n",
            "\u001b[2K   \u001b[90m━━━━━━━━━━━━━━━━━━━━━━━━━━━━━━━━━━━━━━━━\u001b[0m \u001b[32m84.1/84.1 kB\u001b[0m \u001b[31m5.5 MB/s\u001b[0m eta \u001b[36m0:00:00\u001b[0m\n",
            "\u001b[?25hInstalling collected packages: jmespath, botocore, s3transfer, boto3\n",
            "Successfully installed boto3-1.36.3 botocore-1.36.3 jmespath-1.0.1 s3transfer-0.11.1\n"
          ]
        }
      ],
      "source": [
        "!pip install boto3\n"
      ]
    },
    {
      "cell_type": "code",
      "source": [
        "!pip install pandas==1.5.3"
      ],
      "metadata": {
        "colab": {
          "base_uri": "https://localhost:8080/",
          "height": 480
        },
        "id": "7a2wwVgoLHIM",
        "outputId": "916ad3f6-eb08-48fd-93ab-f00538d1843a"
      },
      "execution_count": null,
      "outputs": [
        {
          "output_type": "stream",
          "name": "stdout",
          "text": [
            "Collecting pandas==1.5.3\n",
            "  Downloading pandas-1.5.3-cp311-cp311-manylinux_2_17_x86_64.manylinux2014_x86_64.whl.metadata (11 kB)\n",
            "Requirement already satisfied: python-dateutil>=2.8.1 in /usr/local/lib/python3.11/dist-packages (from pandas==1.5.3) (2.8.2)\n",
            "Requirement already satisfied: pytz>=2020.1 in /usr/local/lib/python3.11/dist-packages (from pandas==1.5.3) (2024.2)\n",
            "Requirement already satisfied: numpy>=1.21.0 in /usr/local/lib/python3.11/dist-packages (from pandas==1.5.3) (1.26.4)\n",
            "Requirement already satisfied: six>=1.5 in /usr/local/lib/python3.11/dist-packages (from python-dateutil>=2.8.1->pandas==1.5.3) (1.17.0)\n",
            "Downloading pandas-1.5.3-cp311-cp311-manylinux_2_17_x86_64.manylinux2014_x86_64.whl (12.0 MB)\n",
            "\u001b[2K   \u001b[90m━━━━━━━━━━━━━━━━━━━━━━━━━━━━━━━━━━━━━━━━\u001b[0m \u001b[32m12.0/12.0 MB\u001b[0m \u001b[31m79.5 MB/s\u001b[0m eta \u001b[36m0:00:00\u001b[0m\n",
            "\u001b[?25hInstalling collected packages: pandas\n",
            "  Attempting uninstall: pandas\n",
            "    Found existing installation: pandas 2.2.3\n",
            "    Uninstalling pandas-2.2.3:\n",
            "      Successfully uninstalled pandas-2.2.3\n",
            "\u001b[31mERROR: pip's dependency resolver does not currently take into account all the packages that are installed. This behaviour is the source of the following dependency conflicts.\n",
            "google-colab 1.0.0 requires pandas==2.2.2, but you have pandas 1.5.3 which is incompatible.\n",
            "plotnine 0.14.5 requires pandas>=2.2.0, but you have pandas 1.5.3 which is incompatible.\n",
            "xarray 2025.1.1 requires pandas>=2.1, but you have pandas 1.5.3 which is incompatible.\n",
            "cudf-cu12 24.10.1 requires pandas<2.2.3dev0,>=2.0, but you have pandas 1.5.3 which is incompatible.\n",
            "mizani 0.13.1 requires pandas>=2.2.0, but you have pandas 1.5.3 which is incompatible.\u001b[0m\u001b[31m\n",
            "\u001b[0mSuccessfully installed pandas-1.5.3\n"
          ]
        },
        {
          "output_type": "display_data",
          "data": {
            "application/vnd.colab-display-data+json": {
              "pip_warning": {
                "packages": [
                  "pandas"
                ]
              },
              "id": "6a51c33c3ad4469fa7b654ee170ff79b"
            }
          },
          "metadata": {}
        }
      ]
    },
    {
      "cell_type": "code",
      "source": [
        "import pandas as pd\n",
        "import boto3\n",
        "import matplotlib.pyplot as plt\n",
        "import seaborn as sns\n",
        "import yaml"
      ],
      "metadata": {
        "id": "juot2Dq3JeNq"
      },
      "execution_count": 1,
      "outputs": []
    },
    {
      "cell_type": "markdown",
      "source": [
        "Abrir archivo pkl\n"
      ],
      "metadata": {
        "id": "WKmoWMsjKjNZ"
      }
    },
    {
      "cell_type": "code",
      "source": [
        "#Abrir archivo pkl\n",
        "df = pd.read_pickle('/content/datos_limpios.pkl')\n",
        "#mostrar datos\n",
        "df.head()"
      ],
      "metadata": {
        "colab": {
          "base_uri": "https://localhost:8080/",
          "height": 469
        },
        "id": "Q9-mtIwPJoR_",
        "outputId": "1546f501-1223-46d6-c0bf-83b916f2b0c0"
      },
      "execution_count": 2,
      "outputs": [
        {
          "output_type": "execute_result",
          "data": {
            "text/plain": [
              "   inspection_id                      dba_name                      aka_name  \\\n",
              "0          67733                     WOLCOTT'S                       TROQUET   \n",
              "1          67732                     WOLCOTT'S                       TROQUET   \n",
              "3          67757  DUNKIN DONUTS/BASKIN-ROBBINS  DUNKIN DONUTS/BASKIN-ROBBINS   \n",
              "4         104236                    TEMPO CAFE                    TEMPO CAFE   \n",
              "5          70269                   mr.daniel's                   mr.daniel's   \n",
              "\n",
              "  license_ facility_type             risk               address     city  \\\n",
              "0  1992040    Restaurant    Risk 1 (High)  1834 W MONTROSE AVE   CHICAGO   \n",
              "1  1992039    Restaurant    Risk 1 (High)  1834 W MONTROSE AVE   CHICAGO   \n",
              "3  1380279    Restaurant  Risk 2 (Medium)    100 W RANDOLPH ST   CHICAGO   \n",
              "4    80916    Restaurant    Risk 1 (High)      6 E CHESTNUT ST   CHICAGO   \n",
              "5  1899292    Restaurant    Risk 1 (High)   5645 W BELMONT AVE   CHICAGO   \n",
              "\n",
              "  state    zip inspection_date        inspection_type results   latitude  \\\n",
              "0    IL  60613      2010-01-04  License Re-Inspection    Pass  41.961606   \n",
              "1    IL  60613      2010-01-04  License Re-Inspection    Pass  41.961606   \n",
              "3    IL  60601      2010-01-04            Tag Removal    Pass  41.884586   \n",
              "4    IL  60611      2010-01-04                Canvass    Fail  41.898431   \n",
              "5    IL  60634      2010-01-04  License Re-Inspection    Pass  41.938443   \n",
              "\n",
              "   longitude                                           location  \\\n",
              "0 -87.675967  {'latitude': '-87.67596676683779', 'longitude'...   \n",
              "1 -87.675967  {'latitude': '-87.67596676683779', 'longitude'...   \n",
              "3 -87.631010  {'latitude': '-87.63101044588599', 'longitude'...   \n",
              "4 -87.628009  {'latitude': '-87.6280091630558', 'longitude':...   \n",
              "5 -87.768318  {'latitude': '-87.76831838068422', 'longitude'...   \n",
              "\n",
              "                                          violations  \n",
              "0                                                NaN  \n",
              "1                                                NaN  \n",
              "3                                                NaN  \n",
              "4  18. NO EVIDENCE OF RODENT OR INSECT OUTER OPEN...  \n",
              "5                                                NaN  "
            ],
            "text/html": [
              "\n",
              "  <div id=\"df-490dd16e-9658-425a-ad82-9ee291e87069\" class=\"colab-df-container\">\n",
              "    <div>\n",
              "<style scoped>\n",
              "    .dataframe tbody tr th:only-of-type {\n",
              "        vertical-align: middle;\n",
              "    }\n",
              "\n",
              "    .dataframe tbody tr th {\n",
              "        vertical-align: top;\n",
              "    }\n",
              "\n",
              "    .dataframe thead th {\n",
              "        text-align: right;\n",
              "    }\n",
              "</style>\n",
              "<table border=\"1\" class=\"dataframe\">\n",
              "  <thead>\n",
              "    <tr style=\"text-align: right;\">\n",
              "      <th></th>\n",
              "      <th>inspection_id</th>\n",
              "      <th>dba_name</th>\n",
              "      <th>aka_name</th>\n",
              "      <th>license_</th>\n",
              "      <th>facility_type</th>\n",
              "      <th>risk</th>\n",
              "      <th>address</th>\n",
              "      <th>city</th>\n",
              "      <th>state</th>\n",
              "      <th>zip</th>\n",
              "      <th>inspection_date</th>\n",
              "      <th>inspection_type</th>\n",
              "      <th>results</th>\n",
              "      <th>latitude</th>\n",
              "      <th>longitude</th>\n",
              "      <th>location</th>\n",
              "      <th>violations</th>\n",
              "    </tr>\n",
              "  </thead>\n",
              "  <tbody>\n",
              "    <tr>\n",
              "      <th>0</th>\n",
              "      <td>67733</td>\n",
              "      <td>WOLCOTT'S</td>\n",
              "      <td>TROQUET</td>\n",
              "      <td>1992040</td>\n",
              "      <td>Restaurant</td>\n",
              "      <td>Risk 1 (High)</td>\n",
              "      <td>1834 W MONTROSE AVE</td>\n",
              "      <td>CHICAGO</td>\n",
              "      <td>IL</td>\n",
              "      <td>60613</td>\n",
              "      <td>2010-01-04</td>\n",
              "      <td>License Re-Inspection</td>\n",
              "      <td>Pass</td>\n",
              "      <td>41.961606</td>\n",
              "      <td>-87.675967</td>\n",
              "      <td>{'latitude': '-87.67596676683779', 'longitude'...</td>\n",
              "      <td>NaN</td>\n",
              "    </tr>\n",
              "    <tr>\n",
              "      <th>1</th>\n",
              "      <td>67732</td>\n",
              "      <td>WOLCOTT'S</td>\n",
              "      <td>TROQUET</td>\n",
              "      <td>1992039</td>\n",
              "      <td>Restaurant</td>\n",
              "      <td>Risk 1 (High)</td>\n",
              "      <td>1834 W MONTROSE AVE</td>\n",
              "      <td>CHICAGO</td>\n",
              "      <td>IL</td>\n",
              "      <td>60613</td>\n",
              "      <td>2010-01-04</td>\n",
              "      <td>License Re-Inspection</td>\n",
              "      <td>Pass</td>\n",
              "      <td>41.961606</td>\n",
              "      <td>-87.675967</td>\n",
              "      <td>{'latitude': '-87.67596676683779', 'longitude'...</td>\n",
              "      <td>NaN</td>\n",
              "    </tr>\n",
              "    <tr>\n",
              "      <th>3</th>\n",
              "      <td>67757</td>\n",
              "      <td>DUNKIN DONUTS/BASKIN-ROBBINS</td>\n",
              "      <td>DUNKIN DONUTS/BASKIN-ROBBINS</td>\n",
              "      <td>1380279</td>\n",
              "      <td>Restaurant</td>\n",
              "      <td>Risk 2 (Medium)</td>\n",
              "      <td>100 W RANDOLPH ST</td>\n",
              "      <td>CHICAGO</td>\n",
              "      <td>IL</td>\n",
              "      <td>60601</td>\n",
              "      <td>2010-01-04</td>\n",
              "      <td>Tag Removal</td>\n",
              "      <td>Pass</td>\n",
              "      <td>41.884586</td>\n",
              "      <td>-87.631010</td>\n",
              "      <td>{'latitude': '-87.63101044588599', 'longitude'...</td>\n",
              "      <td>NaN</td>\n",
              "    </tr>\n",
              "    <tr>\n",
              "      <th>4</th>\n",
              "      <td>104236</td>\n",
              "      <td>TEMPO CAFE</td>\n",
              "      <td>TEMPO CAFE</td>\n",
              "      <td>80916</td>\n",
              "      <td>Restaurant</td>\n",
              "      <td>Risk 1 (High)</td>\n",
              "      <td>6 E CHESTNUT ST</td>\n",
              "      <td>CHICAGO</td>\n",
              "      <td>IL</td>\n",
              "      <td>60611</td>\n",
              "      <td>2010-01-04</td>\n",
              "      <td>Canvass</td>\n",
              "      <td>Fail</td>\n",
              "      <td>41.898431</td>\n",
              "      <td>-87.628009</td>\n",
              "      <td>{'latitude': '-87.6280091630558', 'longitude':...</td>\n",
              "      <td>18. NO EVIDENCE OF RODENT OR INSECT OUTER OPEN...</td>\n",
              "    </tr>\n",
              "    <tr>\n",
              "      <th>5</th>\n",
              "      <td>70269</td>\n",
              "      <td>mr.daniel's</td>\n",
              "      <td>mr.daniel's</td>\n",
              "      <td>1899292</td>\n",
              "      <td>Restaurant</td>\n",
              "      <td>Risk 1 (High)</td>\n",
              "      <td>5645 W BELMONT AVE</td>\n",
              "      <td>CHICAGO</td>\n",
              "      <td>IL</td>\n",
              "      <td>60634</td>\n",
              "      <td>2010-01-04</td>\n",
              "      <td>License Re-Inspection</td>\n",
              "      <td>Pass</td>\n",
              "      <td>41.938443</td>\n",
              "      <td>-87.768318</td>\n",
              "      <td>{'latitude': '-87.76831838068422', 'longitude'...</td>\n",
              "      <td>NaN</td>\n",
              "    </tr>\n",
              "  </tbody>\n",
              "</table>\n",
              "</div>\n",
              "    <div class=\"colab-df-buttons\">\n",
              "\n",
              "  <div class=\"colab-df-container\">\n",
              "    <button class=\"colab-df-convert\" onclick=\"convertToInteractive('df-490dd16e-9658-425a-ad82-9ee291e87069')\"\n",
              "            title=\"Convert this dataframe to an interactive table.\"\n",
              "            style=\"display:none;\">\n",
              "\n",
              "  <svg xmlns=\"http://www.w3.org/2000/svg\" height=\"24px\" viewBox=\"0 -960 960 960\">\n",
              "    <path d=\"M120-120v-720h720v720H120Zm60-500h600v-160H180v160Zm220 220h160v-160H400v160Zm0 220h160v-160H400v160ZM180-400h160v-160H180v160Zm440 0h160v-160H620v160ZM180-180h160v-160H180v160Zm440 0h160v-160H620v160Z\"/>\n",
              "  </svg>\n",
              "    </button>\n",
              "\n",
              "  <style>\n",
              "    .colab-df-container {\n",
              "      display:flex;\n",
              "      gap: 12px;\n",
              "    }\n",
              "\n",
              "    .colab-df-convert {\n",
              "      background-color: #E8F0FE;\n",
              "      border: none;\n",
              "      border-radius: 50%;\n",
              "      cursor: pointer;\n",
              "      display: none;\n",
              "      fill: #1967D2;\n",
              "      height: 32px;\n",
              "      padding: 0 0 0 0;\n",
              "      width: 32px;\n",
              "    }\n",
              "\n",
              "    .colab-df-convert:hover {\n",
              "      background-color: #E2EBFA;\n",
              "      box-shadow: 0px 1px 2px rgba(60, 64, 67, 0.3), 0px 1px 3px 1px rgba(60, 64, 67, 0.15);\n",
              "      fill: #174EA6;\n",
              "    }\n",
              "\n",
              "    .colab-df-buttons div {\n",
              "      margin-bottom: 4px;\n",
              "    }\n",
              "\n",
              "    [theme=dark] .colab-df-convert {\n",
              "      background-color: #3B4455;\n",
              "      fill: #D2E3FC;\n",
              "    }\n",
              "\n",
              "    [theme=dark] .colab-df-convert:hover {\n",
              "      background-color: #434B5C;\n",
              "      box-shadow: 0px 1px 3px 1px rgba(0, 0, 0, 0.15);\n",
              "      filter: drop-shadow(0px 1px 2px rgba(0, 0, 0, 0.3));\n",
              "      fill: #FFFFFF;\n",
              "    }\n",
              "  </style>\n",
              "\n",
              "    <script>\n",
              "      const buttonEl =\n",
              "        document.querySelector('#df-490dd16e-9658-425a-ad82-9ee291e87069 button.colab-df-convert');\n",
              "      buttonEl.style.display =\n",
              "        google.colab.kernel.accessAllowed ? 'block' : 'none';\n",
              "\n",
              "      async function convertToInteractive(key) {\n",
              "        const element = document.querySelector('#df-490dd16e-9658-425a-ad82-9ee291e87069');\n",
              "        const dataTable =\n",
              "          await google.colab.kernel.invokeFunction('convertToInteractive',\n",
              "                                                    [key], {});\n",
              "        if (!dataTable) return;\n",
              "\n",
              "        const docLinkHtml = 'Like what you see? Visit the ' +\n",
              "          '<a target=\"_blank\" href=https://colab.research.google.com/notebooks/data_table.ipynb>data table notebook</a>'\n",
              "          + ' to learn more about interactive tables.';\n",
              "        element.innerHTML = '';\n",
              "        dataTable['output_type'] = 'display_data';\n",
              "        await google.colab.output.renderOutput(dataTable, element);\n",
              "        const docLink = document.createElement('div');\n",
              "        docLink.innerHTML = docLinkHtml;\n",
              "        element.appendChild(docLink);\n",
              "      }\n",
              "    </script>\n",
              "  </div>\n",
              "\n",
              "\n",
              "<div id=\"df-c9ec8b63-656b-46ef-bf52-04382c586eca\">\n",
              "  <button class=\"colab-df-quickchart\" onclick=\"quickchart('df-c9ec8b63-656b-46ef-bf52-04382c586eca')\"\n",
              "            title=\"Suggest charts\"\n",
              "            style=\"display:none;\">\n",
              "\n",
              "<svg xmlns=\"http://www.w3.org/2000/svg\" height=\"24px\"viewBox=\"0 0 24 24\"\n",
              "     width=\"24px\">\n",
              "    <g>\n",
              "        <path d=\"M19 3H5c-1.1 0-2 .9-2 2v14c0 1.1.9 2 2 2h14c1.1 0 2-.9 2-2V5c0-1.1-.9-2-2-2zM9 17H7v-7h2v7zm4 0h-2V7h2v10zm4 0h-2v-4h2v4z\"/>\n",
              "    </g>\n",
              "</svg>\n",
              "  </button>\n",
              "\n",
              "<style>\n",
              "  .colab-df-quickchart {\n",
              "      --bg-color: #E8F0FE;\n",
              "      --fill-color: #1967D2;\n",
              "      --hover-bg-color: #E2EBFA;\n",
              "      --hover-fill-color: #174EA6;\n",
              "      --disabled-fill-color: #AAA;\n",
              "      --disabled-bg-color: #DDD;\n",
              "  }\n",
              "\n",
              "  [theme=dark] .colab-df-quickchart {\n",
              "      --bg-color: #3B4455;\n",
              "      --fill-color: #D2E3FC;\n",
              "      --hover-bg-color: #434B5C;\n",
              "      --hover-fill-color: #FFFFFF;\n",
              "      --disabled-bg-color: #3B4455;\n",
              "      --disabled-fill-color: #666;\n",
              "  }\n",
              "\n",
              "  .colab-df-quickchart {\n",
              "    background-color: var(--bg-color);\n",
              "    border: none;\n",
              "    border-radius: 50%;\n",
              "    cursor: pointer;\n",
              "    display: none;\n",
              "    fill: var(--fill-color);\n",
              "    height: 32px;\n",
              "    padding: 0;\n",
              "    width: 32px;\n",
              "  }\n",
              "\n",
              "  .colab-df-quickchart:hover {\n",
              "    background-color: var(--hover-bg-color);\n",
              "    box-shadow: 0 1px 2px rgba(60, 64, 67, 0.3), 0 1px 3px 1px rgba(60, 64, 67, 0.15);\n",
              "    fill: var(--button-hover-fill-color);\n",
              "  }\n",
              "\n",
              "  .colab-df-quickchart-complete:disabled,\n",
              "  .colab-df-quickchart-complete:disabled:hover {\n",
              "    background-color: var(--disabled-bg-color);\n",
              "    fill: var(--disabled-fill-color);\n",
              "    box-shadow: none;\n",
              "  }\n",
              "\n",
              "  .colab-df-spinner {\n",
              "    border: 2px solid var(--fill-color);\n",
              "    border-color: transparent;\n",
              "    border-bottom-color: var(--fill-color);\n",
              "    animation:\n",
              "      spin 1s steps(1) infinite;\n",
              "  }\n",
              "\n",
              "  @keyframes spin {\n",
              "    0% {\n",
              "      border-color: transparent;\n",
              "      border-bottom-color: var(--fill-color);\n",
              "      border-left-color: var(--fill-color);\n",
              "    }\n",
              "    20% {\n",
              "      border-color: transparent;\n",
              "      border-left-color: var(--fill-color);\n",
              "      border-top-color: var(--fill-color);\n",
              "    }\n",
              "    30% {\n",
              "      border-color: transparent;\n",
              "      border-left-color: var(--fill-color);\n",
              "      border-top-color: var(--fill-color);\n",
              "      border-right-color: var(--fill-color);\n",
              "    }\n",
              "    40% {\n",
              "      border-color: transparent;\n",
              "      border-right-color: var(--fill-color);\n",
              "      border-top-color: var(--fill-color);\n",
              "    }\n",
              "    60% {\n",
              "      border-color: transparent;\n",
              "      border-right-color: var(--fill-color);\n",
              "    }\n",
              "    80% {\n",
              "      border-color: transparent;\n",
              "      border-right-color: var(--fill-color);\n",
              "      border-bottom-color: var(--fill-color);\n",
              "    }\n",
              "    90% {\n",
              "      border-color: transparent;\n",
              "      border-bottom-color: var(--fill-color);\n",
              "    }\n",
              "  }\n",
              "</style>\n",
              "\n",
              "  <script>\n",
              "    async function quickchart(key) {\n",
              "      const quickchartButtonEl =\n",
              "        document.querySelector('#' + key + ' button');\n",
              "      quickchartButtonEl.disabled = true;  // To prevent multiple clicks.\n",
              "      quickchartButtonEl.classList.add('colab-df-spinner');\n",
              "      try {\n",
              "        const charts = await google.colab.kernel.invokeFunction(\n",
              "            'suggestCharts', [key], {});\n",
              "      } catch (error) {\n",
              "        console.error('Error during call to suggestCharts:', error);\n",
              "      }\n",
              "      quickchartButtonEl.classList.remove('colab-df-spinner');\n",
              "      quickchartButtonEl.classList.add('colab-df-quickchart-complete');\n",
              "    }\n",
              "    (() => {\n",
              "      let quickchartButtonEl =\n",
              "        document.querySelector('#df-c9ec8b63-656b-46ef-bf52-04382c586eca button');\n",
              "      quickchartButtonEl.style.display =\n",
              "        google.colab.kernel.accessAllowed ? 'block' : 'none';\n",
              "    })();\n",
              "  </script>\n",
              "</div>\n",
              "\n",
              "    </div>\n",
              "  </div>\n"
            ],
            "application/vnd.google.colaboratory.intrinsic+json": {
              "type": "dataframe",
              "variable_name": "df"
            }
          },
          "metadata": {},
          "execution_count": 2
        }
      ]
    },
    {
      "cell_type": "markdown",
      "source": [
        "1 ¿A cuántos establecimientos diferentes se les ha hecho inspecciones de acuerdo al dataset?"
      ],
      "metadata": {
        "id": "YLjlkeUfLxbD"
      }
    },
    {
      "cell_type": "code",
      "source": [
        "#¿A cuántos establecimientos diferentes se les ha hecho inspecciones de acuerdo al dataset?\n",
        "num_establecimientos = df['aka_name'].nunique()\n",
        "print(num_establecimientos)"
      ],
      "metadata": {
        "colab": {
          "base_uri": "https://localhost:8080/"
        },
        "id": "FApRvsbdL1XA",
        "outputId": "a14b9f82-5272-4c7d-a397-5c37a2be94b9"
      },
      "execution_count": 26,
      "outputs": [
        {
          "output_type": "stream",
          "name": "stdout",
          "text": [
            "27099\n"
          ]
        }
      ]
    },
    {
      "cell_type": "code",
      "source": [
        "# prompt: ¿A cuántos establecimientos diferentes se les ha hecho inspecciones de acuerdo al dataset?\n",
        "\n",
        "# Assuming df is already loaded as in the previous code\n",
        "\n",
        "# Method 1: Using nunique()\n",
        "num_establecimientos = df['facility_type'].nunique()\n",
        "print(f\"Número de establecimientos diferentes: {num_establecimientos}\")\n",
        "\n",
        "# Method 2: Using unique() and len() (more verbose but demonstrates the underlying process)\n",
        "unique_establecimientos = df['facility_type'].unique()\n",
        "num_establecimientos_method2 = len(unique_establecimientos)\n",
        "print(f\"Número de establecimientos diferentes (método 2): {num_establecimientos_method2}\")"
      ],
      "metadata": {
        "colab": {
          "base_uri": "https://localhost:8080/"
        },
        "id": "mNf107_0QIw7",
        "outputId": "e1bfcf17-eed4-44e7-bb11-5a5981a9851d"
      },
      "execution_count": 24,
      "outputs": [
        {
          "output_type": "stream",
          "name": "stdout",
          "text": [
            "Número de establecimientos diferentes: 493\n",
            "Número de establecimientos diferentes (método 2): 493\n"
          ]
        }
      ]
    },
    {
      "cell_type": "markdown",
      "source": [
        "¿Cuál es el tercer tipo de establecimiento con más inspecciones en todo el dataset?"
      ],
      "metadata": {
        "id": "qT37Qk8nMYUz"
      }
    },
    {
      "cell_type": "code",
      "source": [
        "tercer_tipo = df['facility_type'].value_counts().index[2]\n",
        "print(tercer_tipo)"
      ],
      "metadata": {
        "colab": {
          "base_uri": "https://localhost:8080/"
        },
        "id": "F8hov50FMZIb",
        "outputId": "cf311884-0658-48e6-8b87-673dc2ffe4f4"
      },
      "execution_count": 8,
      "outputs": [
        {
          "output_type": "stream",
          "name": "stdout",
          "text": [
            "School\n"
          ]
        }
      ]
    },
    {
      "cell_type": "markdown",
      "source": [
        "¿Cuántos tipos de inspecciones existen?"
      ],
      "metadata": {
        "id": "bM5IaEm7MoAX"
      }
    },
    {
      "cell_type": "code",
      "source": [
        "tipo_inspeccion = df['inspection_type'].nunique()\n",
        "print(tipo_inspeccion)"
      ],
      "metadata": {
        "colab": {
          "base_uri": "https://localhost:8080/"
        },
        "id": "OR1TKfSlMnID",
        "outputId": "a67f767c-d9a8-4faf-b693-74a72befd2cd"
      },
      "execution_count": 9,
      "outputs": [
        {
          "output_type": "stream",
          "name": "stdout",
          "text": [
            "110\n"
          ]
        }
      ]
    },
    {
      "cell_type": "markdown",
      "source": [
        "¿Cuántas inspecciones tienes correspondientes al año 2015 en el dataset?"
      ],
      "metadata": {
        "id": "wx7NMQC9M1tK"
      }
    },
    {
      "cell_type": "code",
      "source": [
        "inspeccion = df[df['inspection_date'].dt.year == 2015]\n",
        "print(len(inspeccion))"
      ],
      "metadata": {
        "colab": {
          "base_uri": "https://localhost:8080/"
        },
        "id": "sd0ABrBXM1Oy",
        "outputId": "73bca285-986b-4563-cedb-dc17436634f8"
      },
      "execution_count": 11,
      "outputs": [
        {
          "output_type": "stream",
          "name": "stdout",
          "text": [
            "20850\n"
          ]
        }
      ]
    },
    {
      "cell_type": "markdown",
      "source": [
        "Inspeccion años"
      ],
      "metadata": {
        "id": "ZL-2CJwTNFQB"
      }
    },
    {
      "cell_type": "code",
      "source": [
        "inspeccion_años = df['inspection_date'].dt.year.value_counts()\n",
        "print(inspeccion_años)"
      ],
      "metadata": {
        "colab": {
          "base_uri": "https://localhost:8080/"
        },
        "id": "Z60qEiPrM0ea",
        "outputId": "8ee2bc40-8e04-4fc7-acc7-fd19b329efc6"
      },
      "execution_count": 12,
      "outputs": [
        {
          "output_type": "stream",
          "name": "stdout",
          "text": [
            "2016    22749\n",
            "2017    21510\n",
            "2014    21487\n",
            "2013    20898\n",
            "2015    20850\n",
            "2019    18973\n",
            "2012    18798\n",
            "2011    18671\n",
            "2010    18003\n",
            "2018    17119\n",
            "2020    13149\n",
            "Name: inspection_date, dtype: int64\n"
          ]
        }
      ]
    },
    {
      "cell_type": "markdown",
      "source": [
        "¿Cuál es el tipo de inspección que más se realiza?\n"
      ],
      "metadata": {
        "id": "TNZymM06NUMT"
      }
    },
    {
      "cell_type": "code",
      "source": [
        "tipo_inspeccion = df['inspection_type'].value_counts().idxmax()\n",
        "print(tipo_inspeccion)"
      ],
      "metadata": {
        "colab": {
          "base_uri": "https://localhost:8080/"
        },
        "id": "ttzqGFC9NVfd",
        "outputId": "bf3ca64a-b0f6-47be-828a-9960e89be5b6"
      },
      "execution_count": 13,
      "outputs": [
        {
          "output_type": "stream",
          "name": "stdout",
          "text": [
            "Canvass\n"
          ]
        }
      ]
    },
    {
      "cell_type": "markdown",
      "source": [
        "¿Cuál es el tipo de inspección que más se realiza en el 2020?"
      ],
      "metadata": {
        "id": "7GIII8wENfJC"
      }
    },
    {
      "cell_type": "code",
      "source": [
        "tipo_inspeccion = df[df['inspection_date'].dt.year == 2020]['inspection_type'].value_counts().idxmax()\n",
        "print(tipo_inspeccion)"
      ],
      "metadata": {
        "colab": {
          "base_uri": "https://localhost:8080/"
        },
        "id": "hmWyOXZ6Nfrb",
        "outputId": "dde87c39-c96e-41c2-f843-431cbf24a438"
      },
      "execution_count": 15,
      "outputs": [
        {
          "output_type": "stream",
          "name": "stdout",
          "text": [
            "Canvass\n"
          ]
        }
      ]
    },
    {
      "cell_type": "markdown",
      "source": [
        "¿Qué porcentaje de establecimientos han pasado inspecciones (Pass y Pass w/ Conditions) y qué porcentaje no (Fail)?"
      ],
      "metadata": {
        "id": "Mx7s_b-nNvE7"
      }
    },
    {
      "cell_type": "code",
      "source": [
        "por_establecimientos = df['results'].value_counts(normalize=True) * 100\n",
        "print(por_establecimientos)"
      ],
      "metadata": {
        "colab": {
          "base_uri": "https://localhost:8080/"
        },
        "id": "wZEy_0N6Nv4B",
        "outputId": "52da442e-4f0e-493f-90eb-cf2c49d15fc2"
      },
      "execution_count": 16,
      "outputs": [
        {
          "output_type": "stream",
          "name": "stdout",
          "text": [
            "Pass                    52.433709\n",
            "Fail                    19.323114\n",
            "Pass w/ Conditions      15.121556\n",
            "Out of Business          8.688215\n",
            "No Entry                 3.351916\n",
            "Not Ready                1.048976\n",
            "Business Not Located     0.032515\n",
            "Name: results, dtype: float64\n"
          ]
        }
      ]
    },
    {
      "cell_type": "code",
      "source": [
        "# prompt: ¿Qué porcentaje de establecimientos han pasado inspecciones (Pass y Pass w/ Conditions) y qué porcentaje no (Fail)?\n",
        "\n",
        "# Assuming df is already loaded as in the previous code\n",
        "\n",
        "# Calculate the percentage of establishments that passed inspections\n",
        "passed_inspections = df[df['results'].isin(['Pass', 'Pass w/ Conditions'])]\n",
        "percentage_passed = (len(passed_inspections) / len(df)) * 100\n",
        "\n",
        "# Calculate the percentage of establishments that failed inspections\n",
        "failed_inspections = df[df['results'] == 'Fail']\n",
        "percentage_failed = (len(failed_inspections) / len(df)) * 100\n",
        "\n",
        "print(f\"Percentage of establishments that passed inspections: {percentage_passed:.2f}%\")\n",
        "print(f\"Percentage of establishments that failed inspections: {percentage_failed:.2f}%\")"
      ],
      "metadata": {
        "colab": {
          "base_uri": "https://localhost:8080/"
        },
        "id": "AP5i-0WoQncf",
        "outputId": "916a57ee-d3e2-4c63-e1ae-77a16526ca77"
      },
      "execution_count": 30,
      "outputs": [
        {
          "output_type": "stream",
          "name": "stdout",
          "text": [
            "Percentage of establishments that passed inspections: 67.56%\n",
            "Percentage of establishments that failed inspections: 19.32%\n"
          ]
        }
      ]
    },
    {
      "cell_type": "markdown",
      "source": [
        "¿Qué porcentaje de establecimientos han pasado inspecciones (Pass y Pass w/ Conditions) en 2020?"
      ],
      "metadata": {
        "id": "54Nk1xL8N-aO"
      }
    },
    {
      "cell_type": "code",
      "source": [
        "df_2020 = df[df['inspection_date'].dt.year == 2020]\n",
        "passed_2020 = df_2020[df_2020['results'].isin(['Pass', 'Pass w/ Conditions'])]\n",
        "porcentaje_pasados_2020 = (len(passed_2020) / len(df_2020)) * 100\n",
        "print(f'{porcentaje_pasados_2020:.2f}%')"
      ],
      "metadata": {
        "colab": {
          "base_uri": "https://localhost:8080/"
        },
        "id": "IXmlq_LdN_J-",
        "outputId": "0a1deb13-bf31-4b2a-d812-9861a226a01e"
      },
      "execution_count": 20,
      "outputs": [
        {
          "output_type": "stream",
          "name": "stdout",
          "text": [
            "64.48%\n"
          ]
        }
      ]
    },
    {
      "cell_type": "markdown",
      "source": [
        "¿Cuántas inspecciones se hacen en el trimestre 3 en promedio?"
      ],
      "metadata": {
        "id": "-_sKxCsqObbx"
      }
    },
    {
      "cell_type": "code",
      "source": [
        "df['inspection_date'] = pd.to_datetime(df['inspection_date'])\n",
        "df['quarter'] = df['inspection_date'].dt.quarter\n",
        "inspecciones_trimestre3 = df[df['quarter'] == 3]\n",
        "promedio_inspecciones_trimestre3 = len(inspecciones_trimestre3) / len(df['inspection_date'].dt.year.unique())\n",
        "promedio_inspecciones_trimestre3"
      ],
      "metadata": {
        "colab": {
          "base_uri": "https://localhost:8080/"
        },
        "id": "62jFtMb9OaQm",
        "outputId": "f758c749-d0b8-4fb3-d562-095f25fa86a7"
      },
      "execution_count": 22,
      "outputs": [
        {
          "output_type": "execute_result",
          "data": {
            "text/plain": [
              "4956.727272727273"
            ]
          },
          "metadata": {},
          "execution_count": 22
        }
      ]
    },
    {
      "cell_type": "markdown",
      "source": [
        "¿Cuántas inspecciones se hacen al día en promedio?"
      ],
      "metadata": {
        "id": "8PHVe6k1OxSB"
      }
    },
    {
      "cell_type": "code",
      "source": [
        "total_inspecciones = len(df)\n",
        "total_dias = (df['inspection_date'].max() - df['inspection_date'].min()).days\n",
        "promedio_diario = total_inspecciones / total_dias\n",
        "print(f\"{promedio_diario:.2f}\")"
      ],
      "metadata": {
        "colab": {
          "base_uri": "https://localhost:8080/"
        },
        "id": "ySXRMiGIOwtq",
        "outputId": "a87cba5c-945f-4eb8-c117-5c33745917d5"
      },
      "execution_count": 23,
      "outputs": [
        {
          "output_type": "stream",
          "name": "stdout",
          "text": [
            "6845.387096774193\n"
          ]
        }
      ]
    },
    {
      "cell_type": "code",
      "source": [
        "inspeccio_dia = df.groupby(df['inspection_date'].dt.date)['inspection_id'].count()\n",
        "promedio_diario = inspeccio_dia.mean()\n",
        "print(f\"{promedio_diario:.2f}\")\n",
        "\n"
      ],
      "metadata": {
        "colab": {
          "base_uri": "https://localhost:8080/"
        },
        "id": "ijhq2DNORFvR",
        "outputId": "7391d45a-dbca-4144-a94d-b62a8ec3ecc3"
      },
      "execution_count": 35,
      "outputs": [
        {
          "output_type": "stream",
          "name": "stdout",
          "text": [
            "77.05\n"
          ]
        }
      ]
    }
  ]
}